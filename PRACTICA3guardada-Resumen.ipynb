{
 "cells": [
  {
   "cell_type": "markdown",
   "id": "985e6f9b",
   "metadata": {},
   "source": [
    "# PRACTICA 6\n",
    "\n",
    "### ¡Con todo lo aprendido con Python, vamos a resolver unos ejercicios de Bioinformática!\n",
    "\n",
    "#### 1.- Concatena las cadenas ATGCC y TCCG"
   ]
  },
  {
   "cell_type": "code",
   "execution_count": 1,
   "id": "e00eca4b",
   "metadata": {
    "tags": []
   },
   "outputs": [],
   "source": [
    "a=\"ATGCC\"\n",
    "b=\"TCCG\""
   ]
  },
  {
   "cell_type": "code",
   "execution_count": 2,
   "id": "05787296-40ca-4478-9dbe-98c2617421a4",
   "metadata": {
    "tags": []
   },
   "outputs": [
    {
     "data": {
      "text/plain": [
       "'ATGCCTCCG'"
      ]
     },
     "execution_count": 2,
     "metadata": {},
     "output_type": "execute_result"
    }
   ],
   "source": [
    "a+b"
   ]
  },
  {
   "cell_type": "markdown",
   "id": "1f4b7708",
   "metadata": {},
   "source": [
    "#### 2.- ¿Cuál es la longitud de ATGCGAGT?"
   ]
  },
  {
   "cell_type": "code",
   "execution_count": 3,
   "id": "8f78cad8",
   "metadata": {
    "tags": []
   },
   "outputs": [],
   "source": [
    "dna=\"ATGCGAGT\""
   ]
  },
  {
   "cell_type": "code",
   "execution_count": 4,
   "id": "44038a0b-5694-4830-b08b-ba53252901d1",
   "metadata": {
    "tags": []
   },
   "outputs": [
    {
     "data": {
      "text/plain": [
       "8"
      ]
     },
     "execution_count": 4,
     "metadata": {},
     "output_type": "execute_result"
    }
   ],
   "source": [
    "len(dna)"
   ]
  },
  {
   "cell_type": "markdown",
   "id": "6361c287",
   "metadata": {},
   "source": [
    "#### 3.- Con la cadena mgXDyTw, ponla en mayúsculas, luego en minúsculas. Extrae su longitud y divide la cadena por la letra \"g\""
   ]
  },
  {
   "cell_type": "code",
   "execution_count": 5,
   "id": "b69beca1",
   "metadata": {
    "tags": []
   },
   "outputs": [],
   "source": [
    "cadena=\"mgXDyTw\""
   ]
  },
  {
   "cell_type": "code",
   "execution_count": 6,
   "id": "9f9504e5-9596-4220-a278-7de877c9197c",
   "metadata": {
    "tags": []
   },
   "outputs": [
    {
     "data": {
      "text/plain": [
       "'MGXDYTW'"
      ]
     },
     "execution_count": 6,
     "metadata": {},
     "output_type": "execute_result"
    }
   ],
   "source": [
    "cadena.upper()"
   ]
  },
  {
   "cell_type": "code",
   "execution_count": 16,
   "id": "95efd38e-3ce0-49cf-a4f0-f6ce5511aa0d",
   "metadata": {
    "tags": []
   },
   "outputs": [],
   "source": [
    "cadena_min=cadena.lower()"
   ]
  },
  {
   "cell_type": "code",
   "execution_count": 8,
   "id": "041c72f9-149f-4418-a0b5-50be94120047",
   "metadata": {
    "tags": []
   },
   "outputs": [
    {
     "data": {
      "text/plain": [
       "7"
      ]
     },
     "execution_count": 8,
     "metadata": {},
     "output_type": "execute_result"
    }
   ],
   "source": [
    "len(cadena)"
   ]
  },
  {
   "cell_type": "code",
   "execution_count": 15,
   "id": "9da9431f-a6b9-4dc0-89a4-2f88952dc651",
   "metadata": {
    "tags": []
   },
   "outputs": [
    {
     "data": {
      "text/plain": [
       "'mgXDyTw'"
      ]
     },
     "execution_count": 15,
     "metadata": {},
     "output_type": "execute_result"
    }
   ],
   "source": [
    "cadena"
   ]
  },
  {
   "cell_type": "code",
   "execution_count": 17,
   "id": "23aacce5-f7cc-4c54-b127-fcb15f8e07e6",
   "metadata": {
    "tags": []
   },
   "outputs": [],
   "source": [
    "cadena_min=cadena.lower()"
   ]
  },
  {
   "cell_type": "code",
   "execution_count": 19,
   "id": "3e27f588-bbbb-4d04-bb7d-3b2191c90c86",
   "metadata": {
    "tags": []
   },
   "outputs": [
    {
     "data": {
      "text/plain": [
       "'mgxdytw'"
      ]
     },
     "execution_count": 19,
     "metadata": {},
     "output_type": "execute_result"
    }
   ],
   "source": [
    "cadena_min"
   ]
  },
  {
   "cell_type": "code",
   "execution_count": 20,
   "id": "633532b7-71d5-41ae-beb0-3186009eff18",
   "metadata": {
    "tags": []
   },
   "outputs": [
    {
     "data": {
      "text/plain": [
       "['m', 'xdytw']"
      ]
     },
     "execution_count": 20,
     "metadata": {},
     "output_type": "execute_result"
    }
   ],
   "source": [
    "cadena_min.split('g')"
   ]
  },
  {
   "cell_type": "markdown",
   "id": "91c2ca9d",
   "metadata": {},
   "source": [
    "#### 4.- Con la secuencia de aminoácidos vlspadktnv, reemplaza la valina con la tirosina. Pista: usa replace()"
   ]
  },
  {
   "cell_type": "code",
   "execution_count": 21,
   "id": "a049ecdd",
   "metadata": {
    "tags": []
   },
   "outputs": [],
   "source": [
    "aa = \"vlspadktnv\""
   ]
  },
  {
   "cell_type": "code",
   "execution_count": 24,
   "id": "30c283db-e7f8-4f51-8703-25385196b144",
   "metadata": {
    "tags": []
   },
   "outputs": [],
   "source": [
    "aa_replaced=aa.replace('v','y')"
   ]
  },
  {
   "cell_type": "code",
   "execution_count": 26,
   "id": "35db2261-6ad0-4758-9c68-8b9cf20585ad",
   "metadata": {
    "tags": []
   },
   "outputs": [
    {
     "data": {
      "text/plain": [
       "'ylspadktny'"
      ]
     },
     "execution_count": 26,
     "metadata": {},
     "output_type": "execute_result"
    }
   ],
   "source": [
    "aa_replaced"
   ]
  },
  {
   "cell_type": "code",
   "execution_count": 35,
   "id": "6d957c8f-bf6a-43b0-98ae-ccee83daa161",
   "metadata": {
    "tags": []
   },
   "outputs": [
    {
     "data": {
      "text/plain": [
       "'ylspadktny'"
      ]
     },
     "execution_count": 35,
     "metadata": {},
     "output_type": "execute_result"
    }
   ],
   "source": [
    "aa = \"vlspadktnv\"\n",
    "reemplazada = aa.replace('v','y')\n",
    "reemplazada"
   ]
  },
  {
   "cell_type": "markdown",
   "id": "97f9ecd6",
   "metadata": {},
   "source": [
    "#### 5.- Cuenta las valinas de la secuencia original anterior."
   ]
  },
  {
   "cell_type": "code",
   "execution_count": 31,
   "id": "5a0beecf",
   "metadata": {
    "tags": []
   },
   "outputs": [
    {
     "name": "stdout",
     "output_type": "stream",
     "text": [
      "Valines: 2\n"
     ]
    }
   ],
   "source": [
    "valines=aa.count('v')\n",
    "print(f'Valines: {valines}')"
   ]
  },
  {
   "cell_type": "markdown",
   "id": "6aac8e24",
   "metadata": {},
   "source": [
    "#### 6.- Con el diccionario siguiente imprime el valor de BisI y saca el valor de EcoRI con pop(). ¿Qué pasa con el diccionario?"
   ]
  },
  {
   "cell_type": "code",
   "execution_count": 36,
   "id": "c0c811d7",
   "metadata": {
    "tags": []
   },
   "outputs": [],
   "source": [
    "enzR = {\n",
    "    'EcoRI':r'GAATTC',\n",
    "    'AvaII':r'GG(A|T)CC',\n",
    "    'BisI':r'GC[ATGC]GC'\n",
    "}"
   ]
  },
  {
   "cell_type": "code",
   "execution_count": 37,
   "id": "e3a7e4b2-7495-4680-bc78-97210ee4b284",
   "metadata": {
    "tags": []
   },
   "outputs": [
    {
     "data": {
      "text/plain": [
       "'GC[ATGC]GC'"
      ]
     },
     "execution_count": 37,
     "metadata": {},
     "output_type": "execute_result"
    }
   ],
   "source": [
    "enzR['BisI']"
   ]
  },
  {
   "cell_type": "code",
   "execution_count": 38,
   "id": "a3b41bbe-79a7-4249-a5fb-76c5cfdb7d6f",
   "metadata": {
    "tags": []
   },
   "outputs": [
    {
     "data": {
      "text/plain": [
       "'GAATTC'"
      ]
     },
     "execution_count": 38,
     "metadata": {},
     "output_type": "execute_result"
    }
   ],
   "source": [
    "enzR.pop('EcoRI')"
   ]
  },
  {
   "cell_type": "markdown",
   "id": "4646bddd",
   "metadata": {},
   "source": [
    "#### 7.- Con la secuencia y la lista siguiente, escribe un algoritmo que cuente el número de veces que aparece un elemento de la lista en la secuencia. Pista: hacer un diccionario para almacenar los resultados puede ser buena idea"
   ]
  },
  {
   "cell_type": "code",
   "execution_count": 39,
   "id": "0a701a5e",
   "metadata": {
    "tags": []
   },
   "outputs": [],
   "source": [
    "dna = \"AATGATGAACGAC\" \n",
    "dinucleotides = ['AA','AT','AG','AC', \n",
    "                 'TA','TT','TG','TC', \n",
    "                 'GA','GT','GG','GC', \n",
    "                 'CA','CT','CG','CT'] "
   ]
  },
  {
   "cell_type": "code",
   "execution_count": 40,
   "id": "67c921bc-86d0-47bf-873e-8117d6de5af2",
   "metadata": {
    "tags": []
   },
   "outputs": [
    {
     "name": "stdout",
     "output_type": "stream",
     "text": [
      "AA\n",
      "AT\n",
      "AG\n",
      "AC\n",
      "TA\n",
      "TT\n",
      "TG\n",
      "TC\n",
      "GA\n",
      "GT\n",
      "GG\n",
      "GC\n",
      "CA\n",
      "CT\n",
      "CG\n",
      "CT\n"
     ]
    }
   ],
   "source": [
    "for dnt in dinucleotides:\n",
    "    print(dnt)"
   ]
  },
  {
   "cell_type": "code",
   "execution_count": 41,
   "id": "ea994068-fff4-4e51-8b32-01ac24874895",
   "metadata": {
    "tags": []
   },
   "outputs": [
    {
     "name": "stdout",
     "output_type": "stream",
     "text": [
      "AA\n",
      "2\n",
      "AT\n",
      "2\n",
      "AG\n",
      "0\n",
      "AC\n",
      "2\n",
      "TA\n",
      "0\n",
      "TT\n",
      "0\n",
      "TG\n",
      "2\n",
      "TC\n",
      "0\n",
      "GA\n",
      "3\n",
      "GT\n",
      "0\n",
      "GG\n",
      "0\n",
      "GC\n",
      "0\n",
      "CA\n",
      "0\n",
      "CT\n",
      "0\n",
      "CG\n",
      "1\n",
      "CT\n",
      "0\n"
     ]
    }
   ],
   "source": [
    "for dnt in dinucleotides:\n",
    "    conteo=dna.count(dnt)\n",
    "    print(dnt)\n",
    "    print(conteo)"
   ]
  },
  {
   "cell_type": "code",
   "execution_count": 43,
   "id": "62c873c0-b74c-4a22-9b06-8a9ed8380390",
   "metadata": {
    "tags": []
   },
   "outputs": [
    {
     "data": {
      "text/plain": [
       "{'AA': 2,\n",
       " 'AT': 2,\n",
       " 'AG': 0,\n",
       " 'AC': 2,\n",
       " 'TA': 0,\n",
       " 'TT': 0,\n",
       " 'TG': 2,\n",
       " 'TC': 0,\n",
       " 'GA': 3,\n",
       " 'GT': 0,\n",
       " 'GG': 0,\n",
       " 'GC': 0,\n",
       " 'CA': 0,\n",
       " 'CT': 0,\n",
       " 'CG': 1}"
      ]
     },
     "execution_count": 43,
     "metadata": {},
     "output_type": "execute_result"
    }
   ],
   "source": [
    "dict_dnt={}\n",
    "for dnt in dinucleotides:\n",
    "    conteo=dna.count(dnt)\n",
    "    dict_dnt[dnt]=conteo\n",
    "dict_dnt "
   ]
  },
  {
   "cell_type": "markdown",
   "id": "a44b5e4c",
   "metadata": {},
   "source": [
    "##### ¿Cuántos counts tiene TC?"
   ]
  },
  {
   "cell_type": "code",
   "execution_count": 44,
   "id": "74cea684",
   "metadata": {
    "tags": []
   },
   "outputs": [
    {
     "data": {
      "text/plain": [
       "0"
      ]
     },
     "execution_count": 44,
     "metadata": {},
     "output_type": "execute_result"
    }
   ],
   "source": [
    "dict_dnt['TC']"
   ]
  },
  {
   "cell_type": "markdown",
   "id": "70245f18",
   "metadata": {},
   "source": [
    "##### ¿Puedes imprimir los dinuleótidos que tengan counts igual a 2?"
   ]
  },
  {
   "cell_type": "code",
   "execution_count": 50,
   "id": "8789d7f8-9378-4d31-a404-69e9744d6d08",
   "metadata": {
    "tags": []
   },
   "outputs": [
    {
     "name": "stdout",
     "output_type": "stream",
     "text": [
      "La key AA tiene el valor 2\n",
      "La key AT tiene el valor 2\n",
      "La key AG tiene el valor 0\n",
      "La key AC tiene el valor 2\n",
      "La key TA tiene el valor 0\n",
      "La key TT tiene el valor 0\n",
      "La key TG tiene el valor 2\n",
      "La key TC tiene el valor 0\n",
      "La key GA tiene el valor 3\n",
      "La key GT tiene el valor 0\n",
      "La key GG tiene el valor 0\n",
      "La key GC tiene el valor 0\n",
      "La key CA tiene el valor 0\n",
      "La key CT tiene el valor 0\n",
      "La key CG tiene el valor 1\n"
     ]
    }
   ],
   "source": [
    "for key in dict_dnt.keys():\n",
    "    valor=dict_dnt[key]\n",
    "    print(f'La key {key} tiene el valor {valor}')"
   ]
  },
  {
   "cell_type": "code",
   "execution_count": 46,
   "id": "72ee631f",
   "metadata": {
    "tags": []
   },
   "outputs": [
    {
     "name": "stdout",
     "output_type": "stream",
     "text": [
      "AA\n",
      "AC\n",
      "AT\n",
      "TG\n"
     ]
    }
   ],
   "source": [
    "for i in sorted(dict_dnt.keys()):\n",
    "    if dict_dnt[i]==2:\n",
    "        print(i)"
   ]
  },
  {
   "cell_type": "code",
   "execution_count": 51,
   "id": "5e0efca3-de60-4af4-bbf8-15a8e0308bc4",
   "metadata": {
    "tags": []
   },
   "outputs": [
    {
     "name": "stdout",
     "output_type": "stream",
     "text": [
      "La key AA tiene el valor 2\n",
      "La key AT tiene el valor 2\n",
      "La key AC tiene el valor 2\n",
      "La key TG tiene el valor 2\n"
     ]
    }
   ],
   "source": [
    "for key in dict_dnt.keys():\n",
    "    valor=dict_dnt[key]\n",
    "    if valor==2:\n",
    "        print(f'La key {key} tiene el valor {valor}')"
   ]
  },
  {
   "cell_type": "markdown",
   "id": "28748e51",
   "metadata": {},
   "source": [
    "##### 8.- Abre el fichero dna.txt, guarda una lista del contenido del archivo. Devuelve su longitud y su primer caracter"
   ]
  },
  {
   "cell_type": "code",
   "execution_count": 54,
   "id": "2d430f33",
   "metadata": {
    "tags": []
   },
   "outputs": [],
   "source": [
    "file=open('dna.txt')"
   ]
  },
  {
   "cell_type": "code",
   "execution_count": 55,
   "id": "93eab5dd-138b-4c0a-aebd-2526371f15bc",
   "metadata": {
    "tags": []
   },
   "outputs": [],
   "source": [
    "all_lines = file.readlines()"
   ]
  },
  {
   "cell_type": "code",
   "execution_count": 56,
   "id": "2c763ce1-fae2-4f96-814b-6d41842d49b0",
   "metadata": {
    "tags": []
   },
   "outputs": [],
   "source": [
    "file.close()"
   ]
  },
  {
   "cell_type": "code",
   "execution_count": 57,
   "id": "32e4b28b-edb8-4642-b8b2-63f96361f8df",
   "metadata": {
    "tags": []
   },
   "outputs": [
    {
     "data": {
      "text/plain": [
       "['ATCGATCGATCGATCGACTGACTAGTCATAGCTATGCATGTAGCTACTCGATCGATCGATCGATCGATCGATCGATCGATCGATCATGCTATCATCGATCGATATCGATGCATCGACTACTAT']"
      ]
     },
     "execution_count": 57,
     "metadata": {},
     "output_type": "execute_result"
    }
   ],
   "source": [
    "all_lines"
   ]
  },
  {
   "cell_type": "code",
   "execution_count": 58,
   "id": "d50a86e1-1751-43d8-a703-b0b00edb5453",
   "metadata": {
    "tags": []
   },
   "outputs": [
    {
     "data": {
      "text/plain": [
       "1"
      ]
     },
     "execution_count": 58,
     "metadata": {},
     "output_type": "execute_result"
    }
   ],
   "source": [
    "len(all_lines)"
   ]
  },
  {
   "cell_type": "code",
   "execution_count": 59,
   "id": "5261ed30-a55b-4e7b-979b-01870d5a2b13",
   "metadata": {
    "tags": []
   },
   "outputs": [
    {
     "data": {
      "text/plain": [
       "123"
      ]
     },
     "execution_count": 59,
     "metadata": {},
     "output_type": "execute_result"
    }
   ],
   "source": [
    "len(all_lines[0])"
   ]
  },
  {
   "cell_type": "code",
   "execution_count": 61,
   "id": "62dbff25-502c-49b1-bacb-b2679b4e5e89",
   "metadata": {
    "tags": []
   },
   "outputs": [
    {
     "data": {
      "text/plain": [
       "'ATCGATCGATCGATCGACTGACTAGTCATAGCTATGCATGTAGCTACTCGATCGATCGATCGATCGATCGATCGATCGATCGATCATGCTATCATCGATCGATATCGATGCATCGACTACTAT'"
      ]
     },
     "execution_count": 61,
     "metadata": {},
     "output_type": "execute_result"
    }
   ],
   "source": [
    "cadena_dna=all_lines[0]\n",
    "cadena_dna"
   ]
  },
  {
   "cell_type": "code",
   "execution_count": 62,
   "id": "b217dda2-3c8c-4e0c-801c-6ae95c922462",
   "metadata": {
    "tags": []
   },
   "outputs": [
    {
     "data": {
      "text/plain": [
       "'A'"
      ]
     },
     "execution_count": 62,
     "metadata": {},
     "output_type": "execute_result"
    }
   ],
   "source": [
    "cadena_dna[0]"
   ]
  },
  {
   "cell_type": "code",
   "execution_count": 64,
   "id": "33c59af6-2291-4265-81f3-1aa748eb06e9",
   "metadata": {
    "tags": []
   },
   "outputs": [
    {
     "data": {
      "text/plain": [
       "'A'"
      ]
     },
     "execution_count": 64,
     "metadata": {},
     "output_type": "execute_result"
    }
   ],
   "source": [
    "all_lines[0][0]"
   ]
  },
  {
   "cell_type": "markdown",
   "id": "9b87396a",
   "metadata": {},
   "source": [
    "##### 9.- Crea dos archivos. Uno almacena los accession que empiezen por 'a' y el otro el resto"
   ]
  },
  {
   "cell_type": "code",
   "execution_count": 63,
   "id": "73957856",
   "metadata": {
    "tags": []
   },
   "outputs": [],
   "source": [
    "accs = ['ab56', 'bh84', 'hv76', 'ay93', 'ap97', 'bd72']"
   ]
  },
  {
   "cell_type": "code",
   "execution_count": 80,
   "id": "b2b5a026-02de-493c-be3c-51c638d5cc26",
   "metadata": {
    "tags": []
   },
   "outputs": [],
   "source": [
    "file1=open('acc_a.txt','w')\n",
    "file2=open('acc_resto.txt','w')"
   ]
  },
  {
   "cell_type": "code",
   "execution_count": 70,
   "id": "adb91523-17a6-4f1d-be49-c3f63d323376",
   "metadata": {
    "tags": []
   },
   "outputs": [
    {
     "name": "stdout",
     "output_type": "stream",
     "text": [
      "ab56\n",
      "ay93\n",
      "ap97\n"
     ]
    }
   ],
   "source": [
    "for acc in accs:\n",
    "    if acc.startswith('a'):\n",
    "        print(acc)"
   ]
  },
  {
   "cell_type": "code",
   "execution_count": 82,
   "id": "e78b5ada-d714-4a7c-9a34-67f0a156bd8a",
   "metadata": {
    "tags": []
   },
   "outputs": [],
   "source": [
    "for acc in accs:\n",
    "    if acc.startswith('a'):\n",
    "        file1.write(acc+'\\n')\n",
    "    else:\n",
    "        file2.write(acc+'\\n')\n",
    "        #print(acc)"
   ]
  },
  {
   "cell_type": "markdown",
   "id": "9cbb4adf",
   "metadata": {
    "tags": []
   },
   "source": [
    "##### 10.- Imprime solamente los accessions de la lista anterior que empiecen por 'a' y no acaben con '6'. Pista: usa endswith() y startswidth()"
   ]
  },
  {
   "cell_type": "code",
   "execution_count": 86,
   "id": "2465a22c",
   "metadata": {
    "tags": []
   },
   "outputs": [
    {
     "name": "stdout",
     "output_type": "stream",
     "text": [
      "ay93\n",
      "ap97\n"
     ]
    }
   ],
   "source": [
    "for acc in accs:\n",
    "    if acc.startswith('a') and not acc.endswith('6'):\n",
    "        print(acc)"
   ]
  },
  {
   "cell_type": "markdown",
   "id": "42c397b0",
   "metadata": {},
   "source": [
    "##### 11.- Escribe una función que cuente el porcentaje de AT de una secuencia"
   ]
  },
  {
   "cell_type": "code",
   "execution_count": null,
   "id": "06f579c2",
   "metadata": {
    "tags": []
   },
   "outputs": [],
   "source": [
    "dna = \"AATGATGAACGAC\" "
   ]
  },
  {
   "cell_type": "code",
   "execution_count": 99,
   "id": "d7c3ab03-2c88-4308-bf49-b56298111bd7",
   "metadata": {
    "tags": []
   },
   "outputs": [],
   "source": [
    "def get_at_porcentaje(secuencia):\n",
    "    num_a=dna.count('A')\n",
    "    num_t=dna.count('T')\n",
    "    num_at=num_a+num_t\n",
    "    longitud=len(dna)\n",
    "    porcentaje_at=(num_at/longitud)*100\n",
    "    return porcentaje_at"
   ]
  },
  {
   "cell_type": "code",
   "execution_count": 100,
   "id": "065e9f9c-cfce-4aee-8aa4-816fe52c29ce",
   "metadata": {
    "tags": []
   },
   "outputs": [
    {
     "data": {
      "text/plain": [
       "61.53846153846154"
      ]
     },
     "execution_count": 100,
     "metadata": {},
     "output_type": "execute_result"
    }
   ],
   "source": [
    "get_at_porcentaje(dna)"
   ]
  },
  {
   "cell_type": "code",
   "execution_count": 88,
   "id": "f1a814a8-7e2e-4ace-a29f-0bc7d92ae1f2",
   "metadata": {
    "tags": []
   },
   "outputs": [
    {
     "data": {
      "text/plain": [
       "6"
      ]
     },
     "execution_count": 88,
     "metadata": {},
     "output_type": "execute_result"
    }
   ],
   "source": [
    "num_a=dna.count('A')\n",
    "num_a"
   ]
  },
  {
   "cell_type": "code",
   "execution_count": 90,
   "id": "83c31614-f6c5-43a2-bf15-a3e17d2d927d",
   "metadata": {
    "tags": []
   },
   "outputs": [
    {
     "data": {
      "text/plain": [
       "2"
      ]
     },
     "execution_count": 90,
     "metadata": {},
     "output_type": "execute_result"
    }
   ],
   "source": [
    "num_t=dna.count('T')\n",
    "num_t"
   ]
  },
  {
   "cell_type": "code",
   "execution_count": 94,
   "id": "d905237c-ef14-4cf3-ac49-72b080c042a0",
   "metadata": {
    "tags": []
   },
   "outputs": [
    {
     "data": {
      "text/plain": [
       "8"
      ]
     },
     "execution_count": 94,
     "metadata": {},
     "output_type": "execute_result"
    }
   ],
   "source": [
    "num_at=num_a+num_t\n",
    "num_at"
   ]
  },
  {
   "cell_type": "code",
   "execution_count": 92,
   "id": "426cb5d0-d406-4f88-8cc1-f3b01b9a0e6c",
   "metadata": {
    "tags": []
   },
   "outputs": [
    {
     "data": {
      "text/plain": [
       "13"
      ]
     },
     "execution_count": 92,
     "metadata": {},
     "output_type": "execute_result"
    }
   ],
   "source": [
    "longitud=len(dna)\n",
    "longitud"
   ]
  },
  {
   "cell_type": "code",
   "execution_count": 98,
   "id": "6dd74ea4-2d01-499a-ac8b-361f84c63f72",
   "metadata": {
    "tags": []
   },
   "outputs": [
    {
     "data": {
      "text/plain": [
       "61.53846153846154"
      ]
     },
     "execution_count": 98,
     "metadata": {},
     "output_type": "execute_result"
    }
   ],
   "source": [
    "porcentaje_at=(num_at/longitud)*100\n",
    "porcentaje_at"
   ]
  },
  {
   "cell_type": "markdown",
   "id": "054b8f51",
   "metadata": {},
   "source": [
    "##### ¿Puedes hacer que devuelva dos decimales? ¿Y que lidie con mayúsculas y minúsculas?"
   ]
  },
  {
   "cell_type": "code",
   "execution_count": 111,
   "id": "8f81e89e",
   "metadata": {
    "tags": []
   },
   "outputs": [],
   "source": [
    "def get_at_porcentaje(secuencia):\n",
    "    num_a=secuencia.count('A')\n",
    "    num_t=secuencia.count('T')\n",
    "    num_at=num_a+num_t\n",
    "    longitud=len(secuencia)\n",
    "    porcentaje_at=(num_at/longitud)*100\n",
    "    return round(porcentaje_at,1)"
   ]
  },
  {
   "cell_type": "code",
   "execution_count": 113,
   "id": "f70f6bdd-efa1-48b8-995c-a61c5c1c7ae3",
   "metadata": {
    "tags": []
   },
   "outputs": [
    {
     "data": {
      "text/plain": [
       "61.5"
      ]
     },
     "execution_count": 113,
     "metadata": {},
     "output_type": "execute_result"
    }
   ],
   "source": [
    "get_at_porcentaje(dna)"
   ]
  },
  {
   "cell_type": "code",
   "execution_count": 114,
   "id": "8d952484-8612-4039-a7ed-a0025b4a27b6",
   "metadata": {
    "tags": []
   },
   "outputs": [
    {
     "data": {
      "text/plain": [
       "50.0"
      ]
     },
     "execution_count": 114,
     "metadata": {},
     "output_type": "execute_result"
    }
   ],
   "source": [
    "get_at_porcentaje('ATGC')"
   ]
  },
  {
   "cell_type": "markdown",
   "id": "83af4b0f",
   "metadata": {},
   "source": [
    "##### Testea tu función original con assert"
   ]
  },
  {
   "cell_type": "code",
   "execution_count": 116,
   "id": "4709dfd0",
   "metadata": {
    "tags": []
   },
   "outputs": [],
   "source": [
    "assert get_at_porcentaje('ATGC') == 50.0"
   ]
  }
 ],
 "metadata": {
  "kernelspec": {
   "display_name": "Python 3 (ipykernel)",
   "language": "python",
   "name": "python3"
  },
  "language_info": {
   "codemirror_mode": {
    "name": "ipython",
    "version": 3
   },
   "file_extension": ".py",
   "mimetype": "text/x-python",
   "name": "python",
   "nbconvert_exporter": "python",
   "pygments_lexer": "ipython3",
   "version": "3.11.4"
  }
 },
 "nbformat": 4,
 "nbformat_minor": 5
}
