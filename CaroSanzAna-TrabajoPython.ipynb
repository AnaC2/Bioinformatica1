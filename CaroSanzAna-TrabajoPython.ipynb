{
 "cells": [
  {
   "cell_type": "markdown",
   "metadata": {},
   "source": [
    "# TRABAJO DE PYTHON\n",
    "\n",
    "### Este trabajo cuenta el 30% de la nota. La entrega será el 5 de Noviembre a las 23:59.\n",
    "\n",
    "### Resuelve los siguientes ejercicios en Python sin usar expresiones regulares\n",
    "\n",
    "#### Utiliza tantas celdas de código como necesites\n",
    "\n",
    "##\n",
    "\n",
    "\n",
    "\n",
    "\n",
    "\n",
    "\n",
    "\n"
   ]
  },
  {
   "cell_type": "code",
   "execution_count": null,
   "metadata": {},
   "outputs": [],
   "source": [
    "#Trabajo Python por Ana Caro Sanz"
   ]
  },
  {
   "cell_type": "markdown",
   "metadata": {},
   "source": [
    "### 1.- BUSCA LA SECUENCIA COMPLEMENTARIA\n",
    "#### Devuelve la secuencia complementaria de la siguiente secuencia de ADN"
   ]
  },
  {
   "cell_type": "code",
   "execution_count": 68,
   "metadata": {},
   "outputs": [],
   "source": [
    "my_dna = \"ACTGATCGATTACGTATAGTATTTGCTATCATACATATATATCGATGCGTTCAT\""
   ]
  },
  {
   "cell_type": "code",
   "execution_count": 69,
   "metadata": {},
   "outputs": [
    {
     "name": "stdout",
     "output_type": "stream",
     "text": [
      "TGACTAGCTAATGCATATCATAAACGATAGTATGTATATATAGCTACGCAAGTA\n"
     ]
    }
   ],
   "source": [
    "def secuencia_complementaria(adn):\n",
    "    complemento = {'A': 'T', 'T': 'A', 'C': 'G', 'G': 'C'}\n",
    "    secuencia_complementaria = ''\n",
    "\n",
    "    for base in adn:\n",
    "        if base in complemento:\n",
    "            secuencia_complementaria += complemento[base]\n",
    "        else:\n",
    "            secuencia_complementaria += base  #si la base no es A, T, C o G, se mantiene igual\n",
    "\n",
    "    return secuencia_complementaria #para especificar el valor que la función debe devolver como resultado\n",
    "\n",
    "my_dna = \"ACTGATCGATTACGTATAGTATTTGCTATCATACATATATATCGATGCGTTCAT\"\n",
    "complementaria = secuencia_complementaria(my_dna)\n",
    "\n",
    "print(complementaria)\n"
   ]
  },
  {
   "cell_type": "markdown",
   "metadata": {},
   "source": [
    "##\n",
    "### 2.- FRAGMENTOS DE RESTRICCION\n",
    "#### Obtén los fragmentos de restricción de EcoRI, que tiene un sitio de corte en G*AATTC (la posición de corte se indica por el *).\n",
    "#### No uses expresiones regulares. \n",
    "#### Pista: utiliza la función find()"
   ]
  },
  {
   "cell_type": "code",
   "execution_count": 70,
   "metadata": {
    "scrolled": true
   },
   "outputs": [],
   "source": [
    "my_dna = \"ACTGATCGATTACGTATAGTATTTGCTATGAATTCCATACATATATATCGATGCGTTCAT\""
   ]
  },
  {
   "cell_type": "code",
   "execution_count": 71,
   "metadata": {},
   "outputs": [
    {
     "name": "stdout",
     "output_type": "stream",
     "text": [
      "Fragmento 1: GAATTC\n"
     ]
    }
   ],
   "source": [
    "def fragmentos_ecori(adn):\n",
    "    ecori_site = \"GAATTC\"\n",
    "    fragmentos = []\n",
    "    start = adn.find(ecori_site)\n",
    "\n",
    "    while start != -1:\n",
    "        fragmento = adn[start:start + len(ecori_site)]\n",
    "        fragmentos.append(fragmento)\n",
    "        start = adn.find(ecori_site, start + 1)\n",
    "\n",
    "    return fragmentos\n",
    "\n",
    "my_dna = \"ACTGATCGATTACGTATAGTATTTGCTATGAATTCCATACATATATATCGATGCGTTCAT\"\n",
    "fragmentos = fragmentos_ecori(my_dna)\n",
    "\n",
    "for i, fragmento in enumerate(fragmentos, start=1):\n",
    "    print(f\"Fragmento {i}: {fragmento}\")\n"
   ]
  },
  {
   "cell_type": "markdown",
   "metadata": {},
   "source": [
    "##\n",
    "### 3.- ENCUENTRA LOS EXONES\n",
    "#### Encuentra los exones en la siguiente secuencia\n",
    "1. El primer exón va de la primera base a la base 63 (empieza a contar desde 0)\n",
    "2. El segundo exón va de la base 91 (contando desde 0) hasta el final\n",
    "3. Calcula el porcentaje de secuencia codificante\n",
    "4. Imprime en pantalla la secuencia original con los exones en mayúsculas y los intrones en minúsculas"
   ]
  },
  {
   "cell_type": "code",
   "execution_count": 72,
   "metadata": {},
   "outputs": [],
   "source": [
    "genomic_dna = \"ATCGATCGATCGATCGACTGACTAGTCATAGCTATGCATGTAGCTACTCGATCGATCGATCGATCGATCGATCGATCGATCGATCATGCTATCATCGATCGATATCGATGCATCGACTACTAT\""
   ]
  },
  {
   "cell_type": "code",
   "execution_count": 73,
   "metadata": {},
   "outputs": [
    {
     "name": "stdout",
     "output_type": "stream",
     "text": [
      "Exón 1: ATCGATCGATCGATCGACTGACTAGTCATAGCTATGCATGTAGCTACTCGATCGATCGATCGA\n",
      "Exón 2: TCATCGATCGATATCGATGCATCGACTACTAT\n",
      "Intrones: TCGATCGATCGATCGATCGATCATGCTA\n",
      "Porcentaje de secuencia codificante: 77.24%\n",
      "Secuencia formateada:\n",
      "ATCGATCGATCGATCGACTGACTAGTCATAGCTATGCATGTAGCTACTCGATCGATCGATCGAtcgatcgatcgatcgatcgatcatgctaTCATCGATCGATATCGATGCATCGACTACTAT\n"
     ]
    }
   ],
   "source": [
    "genomic_dna = \"ATCGATCGATCGATCGACTGACTAGTCATAGCTATGCATGTAGCTACTCGATCGATCGATCGATCGATCGATCGATCGATCGATCATGCTATCATCGATCGATATCGATGCATCGACTACTAT\"\n",
    "\n",
    "#primero definimos los límites de los exones\n",
    "primer_exon_inicio = 0\n",
    "primer_exon_fin = 63\n",
    "segundo_exon_inicio = 91\n",
    "segundo_exon_fin = len(genomic_dna)\n",
    "\n",
    "#después extraemos los exones e intrones\n",
    "exon1 = genomic_dna[primer_exon_inicio:primer_exon_fin]\n",
    "exon2 = genomic_dna[segundo_exon_inicio:segundo_exon_fin]\n",
    "intrones = genomic_dna[primer_exon_fin:segundo_exon_inicio]\n",
    "\n",
    "#calculamos el porcentaje de secuencia codificante\n",
    "longitud_codificante = len(exon1) + len(exon2)\n",
    "longitud_total = len(genomic_dna)\n",
    "porcentaje_codificante = (longitud_codificante / longitud_total) * 100\n",
    "\n",
    "#imprimimos la secuencia original con exones en mayúsculas e intrones en minúsculas\n",
    "secuencia_formateada = genomic_dna[:primer_exon_fin].upper() + genomic_dna[primer_exon_fin:segundo_exon_inicio].lower() + genomic_dna[segundo_exon_inicio:]\n",
    "\n",
    "print(f\"Exón 1: {exon1}\")\n",
    "print(f\"Exón 2: {exon2}\")\n",
    "print(f\"Intrones: {intrones}\")\n",
    "print(f\"Porcentaje de secuencia codificante: {porcentaje_codificante:.2f}%\")\n",
    "print(f\"Secuencia formateada:\\n{secuencia_formateada}\")\n"
   ]
  },
  {
   "cell_type": "markdown",
   "metadata": {},
   "source": [
    "##\n",
    "### 4.- ESCRIBE UN ARCHIVO FASTA\n",
    "#### Escribe un archivo FASTA que tenga las siguientes secuencias:\n",
    "1. ABC123 \tATCGTACGATCGATCGATCGCTAGACGTATCG\n",
    "2. DEF456 \tactgatcgacgatcgatcgatcacgact\n",
    "3. HIJ789 \tACTGAC-ACTGT--ACTGTA----CATGTG\n",
    "\n",
    "###### *Ten en cuenta que todas las secuencias deben tener solo ATGC caracteres y tienen que estar en mayúsculas\n",
    "###### Recuerda que las secuencias en FASTA empiezan por una línea \">identificador\" y la siguiente línea tiene la secuencia\n",
    "\n",
    "###### >ABC123\n",
    "###### ATCGTACGATCGATCGATCGCTAGACGTATCG\n",
    "###### >DEF456\n",
    "###### ACTGATCGACGATCGATCGATCACGACT\n",
    "###### >HIJ789\n",
    "###### ACTGACACTGTACTGTACATGTG"
   ]
  },
  {
   "cell_type": "code",
   "execution_count": 74,
   "metadata": {},
   "outputs": [
    {
     "name": "stdout",
     "output_type": "stream",
     "text": [
      "ABC123\n",
      "ATCGTACGATCGATCGATCGCTAGACGTATCG\n",
      "DEF456\n",
      "actgatcgacgatcgatcgatcacgact\n",
      "HIJ789\n",
      "ACTGAC-ACTGT--ACTGTA----CATGTG\n"
     ]
    }
   ],
   "source": [
    "d={\n",
    "    'ABC123' :'ATCGTACGATCGATCGATCGCTAGACGTATCG',\n",
    "    'DEF456' : 'actgatcgacgatcgatcgatcacgact',\n",
    "    'HIJ789' : 'ACTGAC-ACTGT--ACTGTA----CATGTG'\n",
    "}\n",
    "\n",
    "for key in d.keys():\n",
    "    print(key)\n",
    "    print(d[key])"
   ]
  },
  {
   "cell_type": "code",
   "execution_count": 75,
   "metadata": {},
   "outputs": [
    {
     "name": "stdout",
     "output_type": "stream",
     "text": [
      "Se ha creado el archivo 'secuencias.fasta' con las secuencias en formato FASTA.\n"
     ]
    }
   ],
   "source": [
    "#primero indicamos el diccionario que contiene las secuencias con identificadores\n",
    "d = {\n",
    "    'ABC123': 'ATCGTACGATCGATCGATCGCTAGACGTATCG',\n",
    "    'DEF456': 'ACTGATCGACGATCGATcgatcacgact',  #asegurarse de que las secuencias estén en mayúsculas\n",
    "    'HIJ789': 'ACTGAC-ACTGT--ACTGTA----CATGTG'\n",
    "}\n",
    "\n",
    "#después definimos la función para formatear una secuencia en mayúsculas y sin caracteres no deseados\n",
    "def formatear_secuencia(secuencia):\n",
    "    secuencia = secuencia.upper()  #convierte a mayúsculas\n",
    "    secuencia = ''.join(filter(lambda c: c in 'ATGC', secuencia))  #filtra caracteres no deseados\n",
    "    return secuencia\n",
    "\n",
    "#nombramos el archivo de salida\n",
    "nombre_archivo = \"secuencias.fasta\"\n",
    "\n",
    "#abrimos el archivo en modo escritura\n",
    "with open(nombre_archivo, \"w\") as archivo:\n",
    "    #recorrer cada par clave-valor en el diccionario varias veces creando un bucle utilizando 'for' y escribir las secuencias en el formato FASTA\n",
    "    for key in d.keys():\n",
    "        secuencia_formateada = formatear_secuencia(d[key])\n",
    "        archivo.write(f\">{key}\\n{secuencia_formateada}\\n\")\n",
    "\n",
    "print(f\"Se ha creado el archivo '{nombre_archivo}' con las secuencias en formato FASTA.\")\n"
   ]
  },
  {
   "cell_type": "markdown",
   "metadata": {},
   "source": [
    "##\n",
    "### 5.- ELIMINA ADAPTADORES\n",
    "#### El archivo input.txt tiene unas secuencias de ADN, una por línea. \n",
    "#### Todas las secuencias empiezan con el mismo adaptador que llega hasta la base 14. Escribe un programa que:\n",
    "1. Remueva el adaptador de la secuencia y escriba la secuencia limpia en un archivo\n",
    "2. Imprima en pantalla la longitud de cada secuencia limpia"
   ]
  },
  {
   "cell_type": "code",
   "execution_count": 76,
   "metadata": {},
   "outputs": [
    {
     "name": "stdout",
     "output_type": "stream",
     "text": [
      "Longitud de secuencia limpia: 42\n",
      "Longitud de secuencia limpia: 37\n",
      "Longitud de secuencia limpia: 48\n",
      "Longitud de secuencia limpia: 33\n",
      "Longitud de secuencia limpia: 47\n",
      "Las secuencias limpias se han guardado en 'secuencias_limpas.txt'.\n"
     ]
    }
   ],
   "source": [
    "#nombramos los archivos de entrada y salida\n",
    "nombre_archivo_entrada = \"input.txt\"\n",
    "nombre_archivo_salida = \"secuencias_limpas.txt\"\n",
    "\n",
    "#definimos la función para eliminar el adaptador y escribir la secuencia limpia en el archivo de salida\n",
    "def limpiar_secuencia(secuencia, archivo_salida):\n",
    "    secuencia_limpia = secuencia[14:]  #elimina las primeras 14 bases (adaptador)\n",
    "    secuencia_limpia = secuencia_limpia.strip()  #elimina espacios en blanco alrededor\n",
    "    archivo_salida.write(secuencia_limpia + \"\\n\")\n",
    "    return secuencia_limpia\n",
    "\n",
    "#abrimos el archivo de entrada en modo lectura y el archivo de salida en modo escritura\n",
    "with open(nombre_archivo_entrada, \"r\") as archivo_entrada, open(nombre_archivo_salida, \"w\") as archivo_salida:\n",
    "    secuencias = archivo_entrada.readlines()\n",
    "\n",
    "    for secuencia in secuencias:\n",
    "        secuencia_limpia = limpiar_secuencia(secuencia, archivo_salida)\n",
    "        print(f\"Longitud de secuencia limpia: {len(secuencia_limpia)}\")\n",
    "\n",
    "print(f\"Las secuencias limpias se han guardado en '{nombre_archivo_salida}'.\")\n"
   ]
  },
  {
   "cell_type": "markdown",
   "metadata": {},
   "source": [
    "##\n",
    "### 6.- PORCENTAJE DE AMINO ACIDOS\n",
    "#### Escribe una función que tome dos argumentos: una secuencia de proteínas y un amino ácido. \n",
    "#### Queremos que devuelva el porcentaje del amino ácido en la secuencia de proteínas. \n",
    "#### Una vez que tengas hecha tu función, emplea las siguientes aserciones para comprobar tu código."
   ]
  },
  {
   "cell_type": "code",
   "execution_count": 77,
   "metadata": {},
   "outputs": [
    {
     "ename": "NameError",
     "evalue": "name 'my_function' is not defined",
     "output_type": "error",
     "traceback": [
      "\u001b[1;31m---------------------------------------------------------------------------\u001b[0m",
      "\u001b[1;31mNameError\u001b[0m                                 Traceback (most recent call last)",
      "Cell \u001b[1;32mIn[77], line 1\u001b[0m\n\u001b[1;32m----> 1\u001b[0m \u001b[38;5;28;01massert\u001b[39;00m my_function(\u001b[38;5;124m\"\u001b[39m\u001b[38;5;124mMSRSLLLRFLLFLLLLPPLP\u001b[39m\u001b[38;5;124m\"\u001b[39m, \u001b[38;5;124m\"\u001b[39m\u001b[38;5;124mM\u001b[39m\u001b[38;5;124m\"\u001b[39m) \u001b[38;5;241m==\u001b[39m \u001b[38;5;241m5\u001b[39m\n\u001b[0;32m      2\u001b[0m \u001b[38;5;28;01massert\u001b[39;00m my_function(\u001b[38;5;124m\"\u001b[39m\u001b[38;5;124mMSRSLLLRFLLFLLLLPPLP\u001b[39m\u001b[38;5;124m\"\u001b[39m, \u001b[38;5;124m\"\u001b[39m\u001b[38;5;124mr\u001b[39m\u001b[38;5;124m\"\u001b[39m) \u001b[38;5;241m==\u001b[39m \u001b[38;5;241m10\u001b[39m\n\u001b[0;32m      3\u001b[0m \u001b[38;5;28;01massert\u001b[39;00m my_function(\u001b[38;5;124m\"\u001b[39m\u001b[38;5;124mmsrslllrfllfllllpplp\u001b[39m\u001b[38;5;124m\"\u001b[39m, \u001b[38;5;124m\"\u001b[39m\u001b[38;5;124mL\u001b[39m\u001b[38;5;124m\"\u001b[39m) \u001b[38;5;241m==\u001b[39m \u001b[38;5;241m50\u001b[39m\n",
      "\u001b[1;31mNameError\u001b[0m: name 'my_function' is not defined"
     ]
    }
   ],
   "source": [
    "assert my_function(\"MSRSLLLRFLLFLLLLPPLP\", \"M\") == 5\n",
    "assert my_function(\"MSRSLLLRFLLFLLLLPPLP\", \"r\") == 10\n",
    "assert my_function(\"msrslllrfllfllllpplp\", \"L\") == 50\n",
    "assert my_function(\"MSRSLLLRFLLFLLLLPPLP\", \"Y\") == 0"
   ]
  },
  {
   "cell_type": "code",
   "execution_count": 80,
   "metadata": {},
   "outputs": [],
   "source": [
    "def porcentaje_aminoacido(secuencia_proteinas, aminoacido):\n",
    "    #convertimos la secuencia de proteínas y el aminoácido a mayúsculas para que la función sea capaz de contar el aminoácido tanto en mayúsculas como en minúsculas en la secuencia de proteínas\n",
    "    secuencia_proteinas = secuencia_proteinas.upper()\n",
    "    aminoacido = aminoacido.upper()\n",
    "    \n",
    "    #contamos la cantidad de veces que aparece el aminoácido en la secuencia\n",
    "    conteo_aminoacido = secuencia_proteinas.count(aminoacido)\n",
    "    \n",
    "    #calculamos el porcentaje\n",
    "    longitud_secuencia = len(secuencia_proteinas)\n",
    "    porcentaje = (conteo_aminoacido / longitud_secuencia) * 100\n",
    "    \n",
    "    return porcentaje\n",
    "\n",
    "# Pruebas con las aserciones para verificar que las funciones devuelven el valor indicado\n",
    "assert porcentaje_aminoacido(\"MSRSLLLRFLLFLLLLPPLP\", \"M\") == 5.0\n",
    "assert porcentaje_aminoacido(\"MSRSLLLRFLLFLLLLPPLP\", \"r\") == 10.0\n",
    "assert porcentaje_aminoacido(\"msrslllrfllfllllpplp\", \"L\") == 50.0\n",
    "assert porcentaje_aminoacido(\"MSRSLLLRFLLFLLLLPPLP\", \"Y\") == 0.0"
   ]
  },
  {
   "cell_type": "code",
   "execution_count": 81,
   "metadata": {},
   "outputs": [
    {
     "name": "stdout",
     "output_type": "stream",
     "text": [
      "assertion verification\n"
     ]
    }
   ],
   "source": [
    "#imprimimos para confirmación\n",
    "print(f'assertion verification')"
   ]
  }
 ],
 "metadata": {
  "kernelspec": {
   "display_name": "Python 3 (ipykernel)",
   "language": "python",
   "name": "python3"
  },
  "language_info": {
   "codemirror_mode": {
    "name": "ipython",
    "version": 3
   },
   "file_extension": ".py",
   "mimetype": "text/x-python",
   "name": "python",
   "nbconvert_exporter": "python",
   "pygments_lexer": "ipython3",
   "version": "3.11.4"
  }
 },
 "nbformat": 4,
 "nbformat_minor": 4
}
